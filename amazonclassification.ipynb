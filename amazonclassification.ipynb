{
  "cells": [
    {
      "cell_type": "markdown",
      "metadata": {
        "id": "view-in-github",
        "colab_type": "text"
      },
      "source": [
        "<a href=\"https://colab.research.google.com/github/Nandusasikumar1/amazon-review-classification-/blob/main/amazonclassification.ipynb\" target=\"_parent\"><img src=\"https://colab.research.google.com/assets/colab-badge.svg\" alt=\"Open In Colab\"/></a>"
      ]
    },
    {
      "cell_type": "markdown",
      "id": "b9ef14e6",
      "metadata": {
        "id": "b9ef14e6"
      },
      "source": [
        "### Project description\n",
        "\n",
        "* # Rating prediction using  amazon food review dataset\n",
        "* #### The dataset contains reviews by customers who purchased food  prodcuts from amazon and their corresponding rating.We will use this data to create a supervised classification model to predict the rating based on the customer review.Nltk is used for preparing the dataset for training and Vectorizing the text data .\n",
        "* ### Libraies used\n",
        "* scikit-learn\n",
        "* pandas\n",
        "* matplotlib\n",
        "* seaborn\n",
        "*nltk"
      ]
    },
    {
      "cell_type": "code",
      "execution_count": null,
      "id": "d621296c",
      "metadata": {
        "id": "d621296c"
      },
      "outputs": [],
      "source": [
        "import pandas as pd\n",
        "import seaborn as sns\n",
        "import matplotlib.pyplot as plt\n",
        "import re\n",
        "\n",
        "import nltk\n",
        "from nltk.corpus import stopwords\n",
        "from nltk.stem import WordNetLemmatizer\n",
        "from nltk.corpus import words\n",
        "\n",
        "from sklearn.feature_extraction.text import TfidfVectorizer\n",
        "from sklearn.linear_model import LogisticRegression\n",
        "from sklearn.model_selection import train_test_split\n",
        "\n"
      ]
    },
    {
      "cell_type": "code",
      "execution_count": null,
      "id": "814b721a",
      "metadata": {
        "id": "814b721a"
      },
      "outputs": [],
      "source": [
        "# reading the csv file\n",
        "df=pd.read_csv('amazonFood.csv')"
      ]
    },
    {
      "cell_type": "code",
      "execution_count": null,
      "id": "52cc1a2b",
      "metadata": {
        "id": "52cc1a2b",
        "outputId": "be2256ec-9243-4709-cf2a-18b24ffca453"
      },
      "outputs": [
        {
          "data": {
            "text/html": [
              "<div>\n",
              "<style scoped>\n",
              "    .dataframe tbody tr th:only-of-type {\n",
              "        vertical-align: middle;\n",
              "    }\n",
              "\n",
              "    .dataframe tbody tr th {\n",
              "        vertical-align: top;\n",
              "    }\n",
              "\n",
              "    .dataframe thead th {\n",
              "        text-align: right;\n",
              "    }\n",
              "</style>\n",
              "<table border=\"1\" class=\"dataframe\">\n",
              "  <thead>\n",
              "    <tr style=\"text-align: right;\">\n",
              "      <th></th>\n",
              "      <th>ProductId</th>\n",
              "      <th>UserId</th>\n",
              "      <th>productName</th>\n",
              "      <th>Score</th>\n",
              "      <th>Summary</th>\n",
              "      <th>Text</th>\n",
              "    </tr>\n",
              "  </thead>\n",
              "  <tbody>\n",
              "    <tr>\n",
              "      <th>0</th>\n",
              "      <td>B001E4KFG0</td>\n",
              "      <td>A3SGXH7AUHU8GW</td>\n",
              "      <td>Dogswell Vitality Canned Dog Food Case Duck</td>\n",
              "      <td>5</td>\n",
              "      <td>Good Quality Dog Food</td>\n",
              "      <td>I have bought several of the Vitality canned d...</td>\n",
              "    </tr>\n",
              "    <tr>\n",
              "      <th>1</th>\n",
              "      <td>B00813GRG4</td>\n",
              "      <td>A1D87F6ZCVE5NK</td>\n",
              "      <td>Southern Grove Premium Quality Roasted and Sal...</td>\n",
              "      <td>1</td>\n",
              "      <td>Not as Advertised</td>\n",
              "      <td>Product arrived labeled as Jumbo Salted Peanut...</td>\n",
              "    </tr>\n",
              "    <tr>\n",
              "      <th>2</th>\n",
              "      <td>B000LQOCH0</td>\n",
              "      <td>ABXLMWJIXXAIN</td>\n",
              "      <td>Turkish Delight Filbert (Hazelnuts) (Sultan) 1...</td>\n",
              "      <td>4</td>\n",
              "      <td>\"Delight\" says it all</td>\n",
              "      <td>This is a confection that has been around a fe...</td>\n",
              "    </tr>\n",
              "    <tr>\n",
              "      <th>3</th>\n",
              "      <td>B000UA0QIQ</td>\n",
              "      <td>A395BORC6FGVXV</td>\n",
              "      <td>Faeries Finest Flavor Extract, Cherry, 2.04 Ounce</td>\n",
              "      <td>2</td>\n",
              "      <td>Cough Medicine</td>\n",
              "      <td>If you are looking for the secret ingredient i...</td>\n",
              "    </tr>\n",
              "    <tr>\n",
              "      <th>4</th>\n",
              "      <td>B006K2ZZ7K</td>\n",
              "      <td>A1UQRSCLF8GW1T</td>\n",
              "      <td>Salt Water Taffy - Assorted, 5 lbs</td>\n",
              "      <td>5</td>\n",
              "      <td>Great taffy</td>\n",
              "      <td>Great taffy at a great price.  There was a wid...</td>\n",
              "    </tr>\n",
              "    <tr>\n",
              "      <th>...</th>\n",
              "      <td>...</td>\n",
              "      <td>...</td>\n",
              "      <td>...</td>\n",
              "      <td>...</td>\n",
              "      <td>...</td>\n",
              "      <td>...</td>\n",
              "    </tr>\n",
              "    <tr>\n",
              "      <th>41705</th>\n",
              "      <td>B007IVE938</td>\n",
              "      <td>A3MDETK0D5UAIN</td>\n",
              "      <td>Ajika Organic Rose Buds, 1.6-Ounce</td>\n",
              "      <td>1</td>\n",
              "      <td>Not what I expected.</td>\n",
              "      <td>I certainly could do better by these if I just...</td>\n",
              "    </tr>\n",
              "    <tr>\n",
              "      <th>41706</th>\n",
              "      <td>B00125NESM</td>\n",
              "      <td>AGGS9IPJDU6ML</td>\n",
              "      <td>JOHN BOOS FBLG7224 Table,Stainless,Shelf,72\"x24\"</td>\n",
              "      <td>5</td>\n",
              "      <td>Great!!</td>\n",
              "      <td>Table is 35 inches in height.  It is heavy dut...</td>\n",
              "    </tr>\n",
              "    <tr>\n",
              "      <th>41707</th>\n",
              "      <td>B003M5W8ZK</td>\n",
              "      <td>A373MY0PQL9R41</td>\n",
              "      <td>Green Mountain Coffee - Unsweetened Black Iced...</td>\n",
              "      <td>5</td>\n",
              "      <td>Black tea v Coca Cola</td>\n",
              "      <td>I have been one of those people that always fe...</td>\n",
              "    </tr>\n",
              "    <tr>\n",
              "      <th>41708</th>\n",
              "      <td>B003M5W8ZK</td>\n",
              "      <td>A3U2QUKGA7CJOP</td>\n",
              "      <td>Green Mountain Coffee - Unsweetened Black Iced...</td>\n",
              "      <td>1</td>\n",
              "      <td>Never Received the product</td>\n",
              "      <td>I was charged for this product by Liquid Natio...</td>\n",
              "    </tr>\n",
              "    <tr>\n",
              "      <th>41709</th>\n",
              "      <td>B005GXGAGY</td>\n",
              "      <td>A33AYVATA17JUR</td>\n",
              "      <td>LATE JULY CHIP MLTIGRN GRNMOJO ORG, 5.5 OZ, PK...</td>\n",
              "      <td>5</td>\n",
              "      <td>Great taste - and gluten free</td>\n",
              "      <td>Everyone in my family loves this chip - from t...</td>\n",
              "    </tr>\n",
              "  </tbody>\n",
              "</table>\n",
              "<p>41710 rows × 6 columns</p>\n",
              "</div>"
            ],
            "text/plain": [
              "        ProductId          UserId  \\\n",
              "0      B001E4KFG0  A3SGXH7AUHU8GW   \n",
              "1      B00813GRG4  A1D87F6ZCVE5NK   \n",
              "2      B000LQOCH0   ABXLMWJIXXAIN   \n",
              "3      B000UA0QIQ  A395BORC6FGVXV   \n",
              "4      B006K2ZZ7K  A1UQRSCLF8GW1T   \n",
              "...           ...             ...   \n",
              "41705  B007IVE938  A3MDETK0D5UAIN   \n",
              "41706  B00125NESM   AGGS9IPJDU6ML   \n",
              "41707  B003M5W8ZK  A373MY0PQL9R41   \n",
              "41708  B003M5W8ZK  A3U2QUKGA7CJOP   \n",
              "41709  B005GXGAGY  A33AYVATA17JUR   \n",
              "\n",
              "                                             productName  Score  \\\n",
              "0            Dogswell Vitality Canned Dog Food Case Duck      5   \n",
              "1      Southern Grove Premium Quality Roasted and Sal...      1   \n",
              "2      Turkish Delight Filbert (Hazelnuts) (Sultan) 1...      4   \n",
              "3      Faeries Finest Flavor Extract, Cherry, 2.04 Ounce      2   \n",
              "4                     Salt Water Taffy - Assorted, 5 lbs      5   \n",
              "...                                                  ...    ...   \n",
              "41705                 Ajika Organic Rose Buds, 1.6-Ounce      1   \n",
              "41706   JOHN BOOS FBLG7224 Table,Stainless,Shelf,72\"x24\"      5   \n",
              "41707  Green Mountain Coffee - Unsweetened Black Iced...      5   \n",
              "41708  Green Mountain Coffee - Unsweetened Black Iced...      1   \n",
              "41709  LATE JULY CHIP MLTIGRN GRNMOJO ORG, 5.5 OZ, PK...      5   \n",
              "\n",
              "                             Summary  \\\n",
              "0              Good Quality Dog Food   \n",
              "1                  Not as Advertised   \n",
              "2              \"Delight\" says it all   \n",
              "3                     Cough Medicine   \n",
              "4                        Great taffy   \n",
              "...                              ...   \n",
              "41705           Not what I expected.   \n",
              "41706                        Great!!   \n",
              "41707          Black tea v Coca Cola   \n",
              "41708     Never Received the product   \n",
              "41709  Great taste - and gluten free   \n",
              "\n",
              "                                                    Text  \n",
              "0      I have bought several of the Vitality canned d...  \n",
              "1      Product arrived labeled as Jumbo Salted Peanut...  \n",
              "2      This is a confection that has been around a fe...  \n",
              "3      If you are looking for the secret ingredient i...  \n",
              "4      Great taffy at a great price.  There was a wid...  \n",
              "...                                                  ...  \n",
              "41705  I certainly could do better by these if I just...  \n",
              "41706  Table is 35 inches in height.  It is heavy dut...  \n",
              "41707  I have been one of those people that always fe...  \n",
              "41708  I was charged for this product by Liquid Natio...  \n",
              "41709  Everyone in my family loves this chip - from t...  \n",
              "\n",
              "[41710 rows x 6 columns]"
            ]
          },
          "execution_count": 189,
          "metadata": {},
          "output_type": "execute_result"
        }
      ],
      "source": [
        "df"
      ]
    },
    {
      "cell_type": "code",
      "execution_count": null,
      "id": "91a9361a",
      "metadata": {
        "id": "91a9361a",
        "outputId": "0336e78d-5a9e-447d-b4fd-2d80ddffa024"
      },
      "outputs": [
        {
          "data": {
            "text/plain": [
              "Index(['ProductId', 'UserId', 'productName', 'Score', 'Summary', 'Text'], dtype='object')"
            ]
          },
          "execution_count": 190,
          "metadata": {},
          "output_type": "execute_result"
        }
      ],
      "source": [
        "\n",
        "df.columns"
      ]
    },
    {
      "cell_type": "markdown",
      "id": "b3117203",
      "metadata": {
        "id": "b3117203"
      },
      "source": [
        "### Dropping irrelevant columns"
      ]
    },
    {
      "cell_type": "code",
      "execution_count": null,
      "id": "9a002065",
      "metadata": {
        "id": "9a002065"
      },
      "outputs": [],
      "source": [
        "df.drop(['ProductId', 'UserId','productName','Summary'],axis=1,inplace=True)"
      ]
    },
    {
      "cell_type": "code",
      "execution_count": null,
      "id": "8e665eb0",
      "metadata": {
        "id": "8e665eb0",
        "outputId": "51bf5566-05c4-4807-bac7-4aa2b1702b96"
      },
      "outputs": [
        {
          "data": {
            "text/html": [
              "<div>\n",
              "<style scoped>\n",
              "    .dataframe tbody tr th:only-of-type {\n",
              "        vertical-align: middle;\n",
              "    }\n",
              "\n",
              "    .dataframe tbody tr th {\n",
              "        vertical-align: top;\n",
              "    }\n",
              "\n",
              "    .dataframe thead th {\n",
              "        text-align: right;\n",
              "    }\n",
              "</style>\n",
              "<table border=\"1\" class=\"dataframe\">\n",
              "  <thead>\n",
              "    <tr style=\"text-align: right;\">\n",
              "      <th></th>\n",
              "      <th>Score</th>\n",
              "      <th>Text</th>\n",
              "    </tr>\n",
              "  </thead>\n",
              "  <tbody>\n",
              "    <tr>\n",
              "      <th>0</th>\n",
              "      <td>5</td>\n",
              "      <td>I have bought several of the Vitality canned d...</td>\n",
              "    </tr>\n",
              "    <tr>\n",
              "      <th>1</th>\n",
              "      <td>1</td>\n",
              "      <td>Product arrived labeled as Jumbo Salted Peanut...</td>\n",
              "    </tr>\n",
              "    <tr>\n",
              "      <th>2</th>\n",
              "      <td>4</td>\n",
              "      <td>This is a confection that has been around a fe...</td>\n",
              "    </tr>\n",
              "    <tr>\n",
              "      <th>3</th>\n",
              "      <td>2</td>\n",
              "      <td>If you are looking for the secret ingredient i...</td>\n",
              "    </tr>\n",
              "    <tr>\n",
              "      <th>4</th>\n",
              "      <td>5</td>\n",
              "      <td>Great taffy at a great price.  There was a wid...</td>\n",
              "    </tr>\n",
              "    <tr>\n",
              "      <th>...</th>\n",
              "      <td>...</td>\n",
              "      <td>...</td>\n",
              "    </tr>\n",
              "    <tr>\n",
              "      <th>41705</th>\n",
              "      <td>1</td>\n",
              "      <td>I certainly could do better by these if I just...</td>\n",
              "    </tr>\n",
              "    <tr>\n",
              "      <th>41706</th>\n",
              "      <td>5</td>\n",
              "      <td>Table is 35 inches in height.  It is heavy dut...</td>\n",
              "    </tr>\n",
              "    <tr>\n",
              "      <th>41707</th>\n",
              "      <td>5</td>\n",
              "      <td>I have been one of those people that always fe...</td>\n",
              "    </tr>\n",
              "    <tr>\n",
              "      <th>41708</th>\n",
              "      <td>1</td>\n",
              "      <td>I was charged for this product by Liquid Natio...</td>\n",
              "    </tr>\n",
              "    <tr>\n",
              "      <th>41709</th>\n",
              "      <td>5</td>\n",
              "      <td>Everyone in my family loves this chip - from t...</td>\n",
              "    </tr>\n",
              "  </tbody>\n",
              "</table>\n",
              "<p>41710 rows × 2 columns</p>\n",
              "</div>"
            ],
            "text/plain": [
              "       Score                                               Text\n",
              "0          5  I have bought several of the Vitality canned d...\n",
              "1          1  Product arrived labeled as Jumbo Salted Peanut...\n",
              "2          4  This is a confection that has been around a fe...\n",
              "3          2  If you are looking for the secret ingredient i...\n",
              "4          5  Great taffy at a great price.  There was a wid...\n",
              "...      ...                                                ...\n",
              "41705      1  I certainly could do better by these if I just...\n",
              "41706      5  Table is 35 inches in height.  It is heavy dut...\n",
              "41707      5  I have been one of those people that always fe...\n",
              "41708      1  I was charged for this product by Liquid Natio...\n",
              "41709      5  Everyone in my family loves this chip - from t...\n",
              "\n",
              "[41710 rows x 2 columns]"
            ]
          },
          "execution_count": 192,
          "metadata": {},
          "output_type": "execute_result"
        }
      ],
      "source": [
        "df"
      ]
    },
    {
      "cell_type": "markdown",
      "id": "2d406d92",
      "metadata": {
        "id": "2d406d92"
      },
      "source": [
        "## Renaming column"
      ]
    },
    {
      "cell_type": "code",
      "execution_count": null,
      "id": "f53aacfd",
      "metadata": {
        "id": "f53aacfd"
      },
      "outputs": [],
      "source": [
        "df.rename(columns={'Score':'Rating'},inplace=True)"
      ]
    },
    {
      "cell_type": "markdown",
      "id": "b8942a60",
      "metadata": {
        "id": "b8942a60"
      },
      "source": [
        "## Checking the datatype of columns"
      ]
    },
    {
      "cell_type": "code",
      "execution_count": null,
      "id": "dc1267a1",
      "metadata": {
        "id": "dc1267a1",
        "outputId": "a0fe83d0-9118-431f-a03b-d2e49f9f4d11"
      },
      "outputs": [
        {
          "data": {
            "text/plain": [
              "Rating     int64\n",
              "Text      object\n",
              "dtype: object"
            ]
          },
          "execution_count": 194,
          "metadata": {},
          "output_type": "execute_result"
        }
      ],
      "source": [
        "df.dtypes"
      ]
    },
    {
      "cell_type": "markdown",
      "id": "ee4a6e89",
      "metadata": {
        "id": "ee4a6e89"
      },
      "source": [
        "## Checking null values in each columns"
      ]
    },
    {
      "cell_type": "code",
      "execution_count": null,
      "id": "ff153f59",
      "metadata": {
        "id": "ff153f59",
        "outputId": "53a061e6-04f6-443e-aae8-d58e5ef60a50"
      },
      "outputs": [
        {
          "data": {
            "text/plain": [
              "Rating    0\n",
              "Text      0\n",
              "dtype: int64"
            ]
          },
          "execution_count": 195,
          "metadata": {},
          "output_type": "execute_result"
        }
      ],
      "source": [
        "\n",
        "df.isna().sum()"
      ]
    },
    {
      "cell_type": "markdown",
      "id": "47494151",
      "metadata": {
        "id": "47494151"
      },
      "source": [
        "## Removing duplicate rows"
      ]
    },
    {
      "cell_type": "code",
      "execution_count": null,
      "id": "4e889e3f",
      "metadata": {
        "id": "4e889e3f"
      },
      "outputs": [],
      "source": [
        "df.drop_duplicates(inplace=True,keep='first')"
      ]
    },
    {
      "cell_type": "code",
      "execution_count": null,
      "id": "0c61650c",
      "metadata": {
        "id": "0c61650c"
      },
      "outputs": [],
      "source": [
        "df.reset_index(drop=True,inplace=True)"
      ]
    },
    {
      "cell_type": "code",
      "execution_count": null,
      "id": "dbc4325c",
      "metadata": {
        "id": "dbc4325c",
        "outputId": "e8a50df7-bf8f-4b2a-abe9-93f5a22c9bbd"
      },
      "outputs": [
        {
          "data": {
            "text/html": [
              "<div>\n",
              "<style scoped>\n",
              "    .dataframe tbody tr th:only-of-type {\n",
              "        vertical-align: middle;\n",
              "    }\n",
              "\n",
              "    .dataframe tbody tr th {\n",
              "        vertical-align: top;\n",
              "    }\n",
              "\n",
              "    .dataframe thead th {\n",
              "        text-align: right;\n",
              "    }\n",
              "</style>\n",
              "<table border=\"1\" class=\"dataframe\">\n",
              "  <thead>\n",
              "    <tr style=\"text-align: right;\">\n",
              "      <th></th>\n",
              "      <th>Rating</th>\n",
              "      <th>Text</th>\n",
              "    </tr>\n",
              "  </thead>\n",
              "  <tbody>\n",
              "    <tr>\n",
              "      <th>0</th>\n",
              "      <td>5</td>\n",
              "      <td>I have bought several of the Vitality canned d...</td>\n",
              "    </tr>\n",
              "    <tr>\n",
              "      <th>1</th>\n",
              "      <td>1</td>\n",
              "      <td>Product arrived labeled as Jumbo Salted Peanut...</td>\n",
              "    </tr>\n",
              "    <tr>\n",
              "      <th>2</th>\n",
              "      <td>4</td>\n",
              "      <td>This is a confection that has been around a fe...</td>\n",
              "    </tr>\n",
              "    <tr>\n",
              "      <th>3</th>\n",
              "      <td>2</td>\n",
              "      <td>If you are looking for the secret ingredient i...</td>\n",
              "    </tr>\n",
              "    <tr>\n",
              "      <th>4</th>\n",
              "      <td>5</td>\n",
              "      <td>Great taffy at a great price.  There was a wid...</td>\n",
              "    </tr>\n",
              "    <tr>\n",
              "      <th>...</th>\n",
              "      <td>...</td>\n",
              "      <td>...</td>\n",
              "    </tr>\n",
              "    <tr>\n",
              "      <th>39360</th>\n",
              "      <td>1</td>\n",
              "      <td>I certainly could do better by these if I just...</td>\n",
              "    </tr>\n",
              "    <tr>\n",
              "      <th>39361</th>\n",
              "      <td>5</td>\n",
              "      <td>Table is 35 inches in height.  It is heavy dut...</td>\n",
              "    </tr>\n",
              "    <tr>\n",
              "      <th>39362</th>\n",
              "      <td>5</td>\n",
              "      <td>I have been one of those people that always fe...</td>\n",
              "    </tr>\n",
              "    <tr>\n",
              "      <th>39363</th>\n",
              "      <td>1</td>\n",
              "      <td>I was charged for this product by Liquid Natio...</td>\n",
              "    </tr>\n",
              "    <tr>\n",
              "      <th>39364</th>\n",
              "      <td>5</td>\n",
              "      <td>Everyone in my family loves this chip - from t...</td>\n",
              "    </tr>\n",
              "  </tbody>\n",
              "</table>\n",
              "<p>39365 rows × 2 columns</p>\n",
              "</div>"
            ],
            "text/plain": [
              "       Rating                                               Text\n",
              "0           5  I have bought several of the Vitality canned d...\n",
              "1           1  Product arrived labeled as Jumbo Salted Peanut...\n",
              "2           4  This is a confection that has been around a fe...\n",
              "3           2  If you are looking for the secret ingredient i...\n",
              "4           5  Great taffy at a great price.  There was a wid...\n",
              "...       ...                                                ...\n",
              "39360       1  I certainly could do better by these if I just...\n",
              "39361       5  Table is 35 inches in height.  It is heavy dut...\n",
              "39362       5  I have been one of those people that always fe...\n",
              "39363       1  I was charged for this product by Liquid Natio...\n",
              "39364       5  Everyone in my family loves this chip - from t...\n",
              "\n",
              "[39365 rows x 2 columns]"
            ]
          },
          "execution_count": 198,
          "metadata": {},
          "output_type": "execute_result"
        }
      ],
      "source": [
        "df"
      ]
    },
    {
      "cell_type": "markdown",
      "id": "2666869b",
      "metadata": {
        "id": "2666869b"
      },
      "source": [
        "## Text cleaning\n",
        "\n",
        "-  Remove special characters\n",
        "-  Tokenize the text\n",
        "-  Remove words with no meaning\n",
        "-  Remove stop words(Words which are not useful for prediction)\n",
        "-  Lemmatizing thewords for converting each word to its base form"
      ]
    },
    {
      "cell_type": "code",
      "execution_count": null,
      "id": "6a7da663",
      "metadata": {
        "id": "6a7da663"
      },
      "outputs": [],
      "source": [
        "def clean(df):\n",
        "    df['Text']=df['Text'].apply(lambda x: re.sub('[^A-Za-z]', ' ', str(x)).lower())\n",
        "    df['Text'] = df['Text'].apply(lambda x: nltk.word_tokenize(x))\n",
        "\n",
        "    correct_words =[i.lower() for i in  words.words()]\n",
        "\n",
        "    cleaned_words = [set(i).intersection(correct_words) for i in df['Text']]\n",
        "\n",
        "\n",
        "    df['unique_text']=[[i for i in text if i in clean_words ]for text,clean_words in zip(df['Text'],cleaned_words)]\n",
        "    df['words_with_meaning'] = [[i for i in text if i in unique ]for text,unique in zip(df['Text'],df['unique_text'])]\n",
        "\n",
        "    Stopwords=stopwords.words('english')\n",
        "    df['Text']=df['Text'].apply(lambda x:[i for i in x if i not in Stopwords])\n",
        "\n",
        "    df.drop(['Text','unique_text'],axis=1,inplace=True)\n",
        "\n",
        "    lemmatizer=WordNetLemmatizer()\n",
        "    df['words_with_meaning']=df['words_with_meaning'].apply(lambda x:[lemmatizer.lemmatize(i) for i in x])"
      ]
    },
    {
      "cell_type": "code",
      "execution_count": null,
      "id": "d91ee107",
      "metadata": {
        "id": "d91ee107",
        "outputId": "26a79906-929c-4dc5-9344-f79e00020076"
      },
      "outputs": [
        {
          "data": {
            "text/html": [
              "<div>\n",
              "<style scoped>\n",
              "    .dataframe tbody tr th:only-of-type {\n",
              "        vertical-align: middle;\n",
              "    }\n",
              "\n",
              "    .dataframe tbody tr th {\n",
              "        vertical-align: top;\n",
              "    }\n",
              "\n",
              "    .dataframe thead th {\n",
              "        text-align: right;\n",
              "    }\n",
              "</style>\n",
              "<table border=\"1\" class=\"dataframe\">\n",
              "  <thead>\n",
              "    <tr style=\"text-align: right;\">\n",
              "      <th></th>\n",
              "      <th>Rating</th>\n",
              "      <th>words_with_meaning</th>\n",
              "    </tr>\n",
              "  </thead>\n",
              "  <tbody>\n",
              "    <tr>\n",
              "      <th>0</th>\n",
              "      <td>5</td>\n",
              "      <td>[i, have, bought, several, of, the, vitality, ...</td>\n",
              "    </tr>\n",
              "    <tr>\n",
              "      <th>1</th>\n",
              "      <td>1</td>\n",
              "      <td>[product, a, jumbo, salted, the, were, actuall...</td>\n",
              "    </tr>\n",
              "    <tr>\n",
              "      <th>2</th>\n",
              "      <td>4</td>\n",
              "      <td>[this, is, a, confection, that, been, around, ...</td>\n",
              "    </tr>\n",
              "    <tr>\n",
              "      <th>3</th>\n",
              "      <td>2</td>\n",
              "      <td>[if, you, are, looking, for, the, secret, ingr...</td>\n",
              "    </tr>\n",
              "    <tr>\n",
              "      <th>4</th>\n",
              "      <td>5</td>\n",
              "      <td>[great, taffy, at, a, great, price, there, wa,...</td>\n",
              "    </tr>\n",
              "    <tr>\n",
              "      <th>...</th>\n",
              "      <td>...</td>\n",
              "      <td>...</td>\n",
              "    </tr>\n",
              "    <tr>\n",
              "      <th>39360</th>\n",
              "      <td>1</td>\n",
              "      <td>[i, certainly, could, do, better, by, these, i...</td>\n",
              "    </tr>\n",
              "    <tr>\n",
              "      <th>39361</th>\n",
              "      <td>5</td>\n",
              "      <td>[table, is, in, height, it, is, heavy, duty, a...</td>\n",
              "    </tr>\n",
              "    <tr>\n",
              "      <th>39362</th>\n",
              "      <td>5</td>\n",
              "      <td>[i, have, been, one, of, those, people, that, ...</td>\n",
              "    </tr>\n",
              "    <tr>\n",
              "      <th>39363</th>\n",
              "      <td>1</td>\n",
              "      <td>[i, wa, for, this, product, by, liquid, nation...</td>\n",
              "    </tr>\n",
              "    <tr>\n",
              "      <th>39364</th>\n",
              "      <td>5</td>\n",
              "      <td>[everyone, in, my, family, this, chip, from, t...</td>\n",
              "    </tr>\n",
              "  </tbody>\n",
              "</table>\n",
              "<p>39365 rows × 2 columns</p>\n",
              "</div>"
            ],
            "text/plain": [
              "       Rating                                 words_with_meaning\n",
              "0           5  [i, have, bought, several, of, the, vitality, ...\n",
              "1           1  [product, a, jumbo, salted, the, were, actuall...\n",
              "2           4  [this, is, a, confection, that, been, around, ...\n",
              "3           2  [if, you, are, looking, for, the, secret, ingr...\n",
              "4           5  [great, taffy, at, a, great, price, there, wa,...\n",
              "...       ...                                                ...\n",
              "39360       1  [i, certainly, could, do, better, by, these, i...\n",
              "39361       5  [table, is, in, height, it, is, heavy, duty, a...\n",
              "39362       5  [i, have, been, one, of, those, people, that, ...\n",
              "39363       1  [i, wa, for, this, product, by, liquid, nation...\n",
              "39364       5  [everyone, in, my, family, this, chip, from, t...\n",
              "\n",
              "[39365 rows x 2 columns]"
            ]
          },
          "execution_count": 200,
          "metadata": {},
          "output_type": "execute_result"
        }
      ],
      "source": [
        "clean(df)\n",
        "df"
      ]
    },
    {
      "cell_type": "code",
      "execution_count": null,
      "id": "f7a9a9b2",
      "metadata": {
        "id": "f7a9a9b2"
      },
      "outputs": [],
      "source": [
        "#creating a new column which stores text representation of list of strings in words_with_meaning column\n",
        "df['text']=df['words_with_meaning'].apply(lambda x:' '.join(x))"
      ]
    },
    {
      "cell_type": "code",
      "execution_count": null,
      "id": "b0c555e2",
      "metadata": {
        "id": "b0c555e2",
        "outputId": "f3cab24d-6b88-484c-8707-d36b935f9b7f"
      },
      "outputs": [
        {
          "data": {
            "text/html": [
              "<div>\n",
              "<style scoped>\n",
              "    .dataframe tbody tr th:only-of-type {\n",
              "        vertical-align: middle;\n",
              "    }\n",
              "\n",
              "    .dataframe tbody tr th {\n",
              "        vertical-align: top;\n",
              "    }\n",
              "\n",
              "    .dataframe thead th {\n",
              "        text-align: right;\n",
              "    }\n",
              "</style>\n",
              "<table border=\"1\" class=\"dataframe\">\n",
              "  <thead>\n",
              "    <tr style=\"text-align: right;\">\n",
              "      <th></th>\n",
              "      <th>Rating</th>\n",
              "      <th>words_with_meaning</th>\n",
              "      <th>text</th>\n",
              "    </tr>\n",
              "  </thead>\n",
              "  <tbody>\n",
              "    <tr>\n",
              "      <th>0</th>\n",
              "      <td>5</td>\n",
              "      <td>[i, have, bought, several, of, the, vitality, ...</td>\n",
              "      <td>i have bought several of the vitality canned d...</td>\n",
              "    </tr>\n",
              "    <tr>\n",
              "      <th>1</th>\n",
              "      <td>1</td>\n",
              "      <td>[product, a, jumbo, salted, the, were, actuall...</td>\n",
              "      <td>product a jumbo salted the were actually small...</td>\n",
              "    </tr>\n",
              "    <tr>\n",
              "      <th>2</th>\n",
              "      <td>4</td>\n",
              "      <td>[this, is, a, confection, that, been, around, ...</td>\n",
              "      <td>this is a confection that been around a few it...</td>\n",
              "    </tr>\n",
              "    <tr>\n",
              "      <th>3</th>\n",
              "      <td>2</td>\n",
              "      <td>[if, you, are, looking, for, the, secret, ingr...</td>\n",
              "      <td>if you are looking for the secret ingredient i...</td>\n",
              "    </tr>\n",
              "    <tr>\n",
              "      <th>4</th>\n",
              "      <td>5</td>\n",
              "      <td>[great, taffy, at, a, great, price, there, wa,...</td>\n",
              "      <td>great taffy at a great price there wa a wide a...</td>\n",
              "    </tr>\n",
              "    <tr>\n",
              "      <th>...</th>\n",
              "      <td>...</td>\n",
              "      <td>...</td>\n",
              "      <td>...</td>\n",
              "    </tr>\n",
              "    <tr>\n",
              "      <th>39360</th>\n",
              "      <td>1</td>\n",
              "      <td>[i, certainly, could, do, better, by, these, i...</td>\n",
              "      <td>i certainly could do better by these if i just...</td>\n",
              "    </tr>\n",
              "    <tr>\n",
              "      <th>39361</th>\n",
              "      <td>5</td>\n",
              "      <td>[table, is, in, height, it, is, heavy, duty, a...</td>\n",
              "      <td>table is in height it is heavy duty and rough ...</td>\n",
              "    </tr>\n",
              "    <tr>\n",
              "      <th>39362</th>\n",
              "      <td>5</td>\n",
              "      <td>[i, have, been, one, of, those, people, that, ...</td>\n",
              "      <td>i have been one of those people that always fe...</td>\n",
              "    </tr>\n",
              "    <tr>\n",
              "      <th>39363</th>\n",
              "      <td>1</td>\n",
              "      <td>[i, wa, for, this, product, by, liquid, nation...</td>\n",
              "      <td>i wa for this product by liquid nation and nev...</td>\n",
              "    </tr>\n",
              "    <tr>\n",
              "      <th>39364</th>\n",
              "      <td>5</td>\n",
              "      <td>[everyone, in, my, family, this, chip, from, t...</td>\n",
              "      <td>everyone in my family this chip from the year ...</td>\n",
              "    </tr>\n",
              "  </tbody>\n",
              "</table>\n",
              "<p>39365 rows × 3 columns</p>\n",
              "</div>"
            ],
            "text/plain": [
              "       Rating                                 words_with_meaning  \\\n",
              "0           5  [i, have, bought, several, of, the, vitality, ...   \n",
              "1           1  [product, a, jumbo, salted, the, were, actuall...   \n",
              "2           4  [this, is, a, confection, that, been, around, ...   \n",
              "3           2  [if, you, are, looking, for, the, secret, ingr...   \n",
              "4           5  [great, taffy, at, a, great, price, there, wa,...   \n",
              "...       ...                                                ...   \n",
              "39360       1  [i, certainly, could, do, better, by, these, i...   \n",
              "39361       5  [table, is, in, height, it, is, heavy, duty, a...   \n",
              "39362       5  [i, have, been, one, of, those, people, that, ...   \n",
              "39363       1  [i, wa, for, this, product, by, liquid, nation...   \n",
              "39364       5  [everyone, in, my, family, this, chip, from, t...   \n",
              "\n",
              "                                                    text  \n",
              "0      i have bought several of the vitality canned d...  \n",
              "1      product a jumbo salted the were actually small...  \n",
              "2      this is a confection that been around a few it...  \n",
              "3      if you are looking for the secret ingredient i...  \n",
              "4      great taffy at a great price there wa a wide a...  \n",
              "...                                                  ...  \n",
              "39360  i certainly could do better by these if i just...  \n",
              "39361  table is in height it is heavy duty and rough ...  \n",
              "39362  i have been one of those people that always fe...  \n",
              "39363  i wa for this product by liquid nation and nev...  \n",
              "39364  everyone in my family this chip from the year ...  \n",
              "\n",
              "[39365 rows x 3 columns]"
            ]
          },
          "execution_count": 202,
          "metadata": {},
          "output_type": "execute_result"
        }
      ],
      "source": [
        "df"
      ]
    },
    {
      "cell_type": "markdown",
      "id": "65ac6e64",
      "metadata": {
        "id": "65ac6e64"
      },
      "source": [
        "## Calculating the frequency of Ratings"
      ]
    },
    {
      "cell_type": "code",
      "execution_count": null,
      "id": "21b1c87a",
      "metadata": {
        "id": "21b1c87a"
      },
      "outputs": [],
      "source": [
        "rating_count=df['Rating'].value_counts()"
      ]
    },
    {
      "cell_type": "code",
      "execution_count": null,
      "id": "32ed6860",
      "metadata": {
        "id": "32ed6860"
      },
      "outputs": [],
      "source": [
        "rating_count_normalized=df['Rating'].value_counts(normalize=True)*100"
      ]
    },
    {
      "cell_type": "code",
      "execution_count": null,
      "id": "aac20292",
      "metadata": {
        "id": "aac20292",
        "outputId": "188137ce-b0a8-4319-f4ee-877df60b89fc"
      },
      "outputs": [
        {
          "name": "stdout",
          "output_type": "stream",
          "text": [
            "frequency of targret variable(rating) : \n",
            "\n",
            " 5    24676\n",
            "4     5704\n",
            "1     3624\n",
            "3     3159\n",
            "2     2202\n",
            "Name: Rating, dtype: int64 \n",
            "\n",
            "\n",
            "percentage of fequency of target variables : \n",
            "\n",
            " 5    62.685126\n",
            "4    14.490029\n",
            "1     9.206148\n",
            "3     8.024895\n",
            "2     5.593802\n",
            "Name: Rating, dtype: float64\n"
          ]
        }
      ],
      "source": [
        "print('frequency of targret variable(rating) : \\n\\n',rating_count,'\\n\\n')\n",
        "print('percentage of fequency of target variables : \\n\\n',rating_count_normalized)"
      ]
    },
    {
      "cell_type": "code",
      "execution_count": null,
      "id": "54b01afd",
      "metadata": {
        "id": "54b01afd",
        "outputId": "009e8ec3-4819-4b34-c4e3-7b353528f94e"
      },
      "outputs": [
        {
          "data": {
            "image/png": "[encoded data removed]",
            "text/plain": [
              "<Figure size 720x360 with 1 Axes>"
            ]
          },
          "metadata": {
            "needs_background": "light"
          },
          "output_type": "display_data"
        }
      ],
      "source": [
        "plt.figure(figsize=(10,5))\n",
        "sns.countplot(x=df['Rating'])\n",
        "plt.show()"
      ]
    },
    {
      "cell_type": "markdown",
      "id": "911e037a",
      "metadata": {
        "id": "911e037a"
      },
      "source": [
        "  \n",
        "  * #### There is imbalance in the dataset.The rating 5 has high frequency compared to other ratings\n",
        "  * #### we will assign weights for each class for balancing the dataset\n",
        "  \n",
        "  "
      ]
    },
    {
      "cell_type": "markdown",
      "id": "e91d6ee3",
      "metadata": {
        "id": "e91d6ee3"
      },
      "source": [
        "## Splitting the dataset in train and test sets"
      ]
    },
    {
      "cell_type": "code",
      "execution_count": null,
      "id": "eee5d641",
      "metadata": {
        "id": "eee5d641"
      },
      "outputs": [],
      "source": [
        "x=df.iloc[:,-1].values\n",
        "y=df.iloc[:,0].values\n",
        "x_train,x_test,y_train,y_test=train_test_split(x,y,test_size=.3,random_state=1,stratify=y)"
      ]
    },
    {
      "cell_type": "code",
      "execution_count": null,
      "id": "7c3c7e81",
      "metadata": {
        "id": "7c3c7e81",
        "outputId": "afadea7f-0a44-4cf3-ee11-7c853d3fe9c6"
      },
      "outputs": [
        {
          "name": "stdout",
          "output_type": "stream",
          "text": [
            "(27555,) (27555,)\n",
            "(11810,) (11810,)\n"
          ]
        }
      ],
      "source": [
        "print(x_train.shape,y_train.shape)\n",
        "print(x_test.shape,y_test.shape)"
      ]
    },
    {
      "cell_type": "markdown",
      "id": "c99f4bc2",
      "metadata": {
        "id": "c99f4bc2"
      },
      "source": [
        "## Vectorizing text for training the ml model"
      ]
    },
    {
      "cell_type": "code",
      "execution_count": null,
      "id": "c0cb7b16",
      "metadata": {
        "id": "c0cb7b16"
      },
      "outputs": [],
      "source": [
        "vectorizer=TfidfVectorizer()\n",
        "x_train=vectorizer.fit_transform(x_train)\n",
        "x_test=vectorizer.transform(x_test)"
      ]
    },
    {
      "cell_type": "markdown",
      "id": "f62db6bd",
      "metadata": {
        "id": "f62db6bd"
      },
      "source": [
        "## creating the model"
      ]
    },
    {
      "cell_type": "code",
      "execution_count": null,
      "id": "ffaa0080",
      "metadata": {
        "id": "ffaa0080"
      },
      "outputs": [],
      "source": [
        "# calculating the weights for each class in the target variable\n",
        "from sklearn.utils import class_weight\n",
        "weights=class_weight.compute_class_weight(class_weight='balanced',classes=df['Rating'].unique(),y=df['Rating'])\n",
        "weights=dict(zip(df['Rating'].unique(),weights))"
      ]
    },
    {
      "cell_type": "code",
      "execution_count": null,
      "id": "e2409b87",
      "metadata": {
        "id": "e2409b87"
      },
      "outputs": [],
      "source": [
        "from sklearn.linear_model import LogisticRegression\n",
        "model = LogisticRegression(class_weight=weights)"
      ]
    },
    {
      "cell_type": "code",
      "execution_count": null,
      "id": "0c2254a1",
      "metadata": {
        "id": "0c2254a1"
      },
      "outputs": [],
      "source": [
        "model.fit(x_train,y_train)"
      ]
    },
    {
      "cell_type": "markdown",
      "id": "1f94bfe2",
      "metadata": {
        "id": "1f94bfe2"
      },
      "source": [
        "## predictions"
      ]
    },
    {
      "cell_type": "code",
      "execution_count": null,
      "id": "47c6d36b",
      "metadata": {
        "id": "47c6d36b",
        "outputId": "8b9e9813-e45d-4f34-9a09-92b1e58de5ec"
      },
      "outputs": [
        {
          "data": {
            "text/plain": [
              "4"
            ]
          },
          "execution_count": 219,
          "metadata": {},
          "output_type": "execute_result"
        }
      ],
      "source": [
        "model.predict(vectorizer.transform([' taste was really  good but need improvement ']))[0]"
      ]
    },
    {
      "cell_type": "code",
      "execution_count": null,
      "id": "3c2ff47e",
      "metadata": {
        "id": "3c2ff47e",
        "outputId": "d36b9ab0-77c0-495c-8bca-15a9b5a02f83"
      },
      "outputs": [
        {
          "data": {
            "text/plain": [
              "1"
            ]
          },
          "execution_count": 220,
          "metadata": {},
          "output_type": "execute_result"
        }
      ],
      "source": [
        "model.predict(vectorizer.transform([' taste was really  bad']))[0]"
      ]
    },
    {
      "cell_type": "code",
      "execution_count": null,
      "id": "6e25cb1e",
      "metadata": {
        "id": "6e25cb1e"
      },
      "outputs": [],
      "source": []
    }
  ],
  "metadata": {
    "kernelspec": {
      "display_name": "Python 3 (ipykernel)",
      "language": "python",
      "name": "python3"
    },
    "language_info": {
      "codemirror_mode": {
        "name": "ipython",
        "version": 3
      },
      "file_extension": ".py",
      "mimetype": "text/x-python",
      "name": "python",
      "nbconvert_exporter": "python",
      "pygments_lexer": "ipython3",
      "version": "3.10.4"
    },
    "colab": {
      "provenance": [],
      "include_colab_link": true
    }
  },
  "nbformat": 4,
  "nbformat_minor": 5
}